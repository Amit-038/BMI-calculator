{
 "cells": [
  {
   "cell_type": "code",
   "execution_count": 1,
   "id": "0fffbad2-2a1f-4532-8ec4-d8c2c2745b7c",
   "metadata": {},
   "outputs": [
    {
     "name": "stdout",
     "output_type": "stream",
     "text": [
      "Welcome to the BMI Calculator!\n"
     ]
    },
    {
     "name": "stdin",
     "output_type": "stream",
     "text": [
      "Enter your weight in kilograms:  68\n",
      "Enter your height in meters:  1.7\n"
     ]
    },
    {
     "name": "stdout",
     "output_type": "stream",
     "text": [
      "Your BMI is: 23.53\n",
      "You are categorized as: Normal weight\n"
     ]
    }
   ],
   "source": [
    "# Function to calculate BMI\n",
    "def calculate_bmi(weight, height):\n",
    "    # BMI formula\n",
    "    bmi = weight / (height ** 2)\n",
    "    return bmi\n",
    "\n",
    "# Function to determine BMI category\n",
    "def bmi_category(bmi):\n",
    "    if bmi < 18.5:\n",
    "        return \"Underweight\"\n",
    "    elif 18.5 <= bmi < 24.9:\n",
    "        return \"Normal weight\"\n",
    "    elif 25 <= bmi < 29.9:\n",
    "        return \"Overweight\"\n",
    "    else:\n",
    "        return \"Obesity\"\n",
    "\n",
    "# Main function\n",
    "def main():\n",
    "    print(\"Welcome to the BMI Calculator!\")\n",
    "\n",
    "    # Get user input for weight and height\n",
    "    weight = float(input(\"Enter your weight in kilograms: \"))\n",
    "    height = float(input(\"Enter your height in meters: \"))\n",
    "\n",
    "    # Calculate BMI\n",
    "    bmi = calculate_bmi(weight, height)\n",
    "\n",
    "    # Determine BMI category\n",
    "    category = bmi_category(bmi)\n",
    "\n",
    "    # Display results\n",
    "    print(f\"Your BMI is: {bmi:.2f}\")\n",
    "    print(f\"You are categorized as: {category}\")\n",
    "\n",
    "# Run the program\n",
    "if __name__ == \"__main__\":\n",
    "    main()\n"
   ]
  },
  {
   "cell_type": "code",
   "execution_count": null,
   "id": "438c3641-6d27-4550-a9cb-f096d4a164f0",
   "metadata": {},
   "outputs": [],
   "source": []
  }
 ],
 "metadata": {
  "kernelspec": {
   "display_name": "Python 3 (ipykernel)",
   "language": "python",
   "name": "python3"
  },
  "language_info": {
   "codemirror_mode": {
    "name": "ipython",
    "version": 3
   },
   "file_extension": ".py",
   "mimetype": "text/x-python",
   "name": "python",
   "nbconvert_exporter": "python",
   "pygments_lexer": "ipython3",
   "version": "3.13.1"
  }
 },
 "nbformat": 4,
 "nbformat_minor": 5
}
